{
 "cells": [
  {
   "cell_type": "markdown",
   "metadata": {},
   "source": [
    "# Getting started with the practicals\n",
    "\n",
    "***These notebooks are best viewed in Jupyter. GitHub might not display all content of the notebook properly.***\n",
    "\n",
    "## Goal of the practical exercises\n",
    "\n",
    "The exercises have two goals:\n",
    "\n",
    "1. Give you the opportunity to obtain 'hands-on' experience in implementing, training and evaluation machine learning models in Python. This experience will also help you better understand the theory covered during the lectures. \n",
    "\n",
    "2. Occasionally demonstrate some 'exam-style' questions that you can use as a reference when studying for the exam. Note however that the example questions are (as the name suggests) only examples and do not constitute a complete and sufficient list of 'things that you have to learn for the exam'. You can recognize example questions as (parts of) exercises by <font color=\"#770a0a\">this font color</font>.\n",
    "\n",
    "For each set of exercises (one Python notebook such as this one $==$ one set of exercises) you have to submit deliverables that will then be graded and constitute 25% of the final grade. Thus, the work that you do during the practicals has double contribution towards the final grade: as 25% direct contribution and as a preparation for the exam that will define the other 65% of the grade.\n",
    "\n",
    "## Deliverables\n",
    "\n",
    "For each set of exercises, you have to submit:\n",
    "1. Python functions and/or classes (`.py` files) that implement basic functionalities (e.g. a $k$-NN classifier) and \n",
    "2. A *single* Python notebook that contains the experiments, visualization and answer to the questions and math problems. *Do not submit your answers as Word or PDF documents (they will not be graded)*. The submitted code and notebook should run without errors and be able to fully reproduce the reported results.\n",
    "\n",
    "We recommend that you clone the provided notebooks (such as this one) and write your code in them. The following rubric will be used when grading the practical work:\n",
    "\n",
    "Component  | Insufficient | Satisfactory | Excellent\n",
    "--- | --- | --- | ---\n",
    "**Code** | Missing or incomplete code structure, runs with errors, lacks documentation | Self-contained, does not result in errors, contains some documentation, can be easily used to reproduce the reported results | User-friendly, well-structured (good separation of general functionality and experiments, i.e. between `.py` files and the Pyhthon notebook), detailed documentation, optimized for speed, <s>use of a version control system (such as GitHub)</s>\n",
    "**Answers to questions** | Incorrect, does not convey understanding of the material, appears to be copied from another source | Correct, conveys good understanding of the material, description in own words | Correct, conveys excellent level of understanding, makes connections between topics\n",
    "\n",
    "## A word on notation\n",
    "\n",
    "When we refer to Python variables, we will use a monospace font. For example, `X` is a Python variable that contains the data matrix. When we refer to mathematical variables, we will use the de-facto standard notation: $a$ or $\\lambda$ is a scalar variable, $\\boldsymbol{\\mathrm{w}}$ is a vector and $\\boldsymbol{\\mathrm{X}}$ is a matrix (e.g. a data matrix from the example above). You should use the same notation when writing your answers and solutions.\n",
    "\n",
    "# Two simple machine learning models\n",
    "\n",
    "## Preliminaries\n",
    "\n",
    "Throughout the practical curriculum of this course, we will use the Python programming language and its ecosystem of libraries for scientific computing (such as `numpy`, `scipy`, `matplotlib`, `scikit-learn` etc). The practicals for the deep learning part of the course will use the `keras` deep learning framework. If you are not sufficiently familiar with this programming language and/or the listed libraries and packages, you are strongly advised to go over the corresponding tutorials from the ['Essential skills'](https://github.com/tueimage/essential-skills) module (the `scikit-learn` library is not covered by the tutorial, however, an extensive documentation is available [here](https://scikit-learn.org/stable/documentation.html).\n",
    "\n",
    "In this first set of exercises, we will use two toy datasets that ship together with `scikit-learn`. \n",
    "\n",
    "The first dataset is named `diabetes` and contains 442 patients described with 10 features: age, sex, body mass index, average blood pressure, and six blood serum measurements. The target variable is a continuous quantitative measure of the disease (diabetes) progression one year after the baseline measurements were recorded. More information is available [here](https://github.com/scikit-learn/scikit-learn/blob/master/sklearn/datasets/descr/diabetes.rst) and [here](https://www4.stat.ncsu.edu/~boos/var.select/diabetes.html).\n",
    "\n",
    "The second dataset is named `breast_cancer` and is a copy of the UCI ML Breast Cancer Wisconsin (Diagnostic) datasets (more infortmation is available [here](https://github.com/scikit-learn/scikit-learn/blob/master/sklearn/datasets/descr/breast_cancer.rst) and [here](https://archive.ics.uci.edu/ml/datasets/Breast+Cancer+Wisconsin+(Diagnostic)). The datasets contains of 569 instances represented with 30 features that are computed from a images of a fine needle aspirate of a breast mass. The features describe characteristics of the cell nuclei present in the image. Each instance is associated with a binary target variable ('malignant' or 'benign'). \n",
    "\n",
    "You can load the two datasets in the following way:"
   ]
  },
  {
   "cell_type": "code",
   "execution_count": 2,
   "metadata": {},
   "outputs": [],
   "source": [
    "import numpy as np\n",
    "from sklearn.datasets import load_diabetes, load_breast_cancer\n",
    "\n",
    "diabetes = load_diabetes()\n",
    "\n",
    "breast_cancer = load_breast_cancer()"
   ]
  },
  {
   "cell_type": "markdown",
   "metadata": {},
   "source": [
    "In the majority of the exercises in this course, we will use higher-level libraries and packages such as `scikit-learn` and `keras` to implement, train and evaluate machine learning models. However, the goal of this first set of exercises is to illustrate basic mathematical tools and machine learning concepts. Because of this, we will impose a restriction of only using basic `numpy` functionality. Furthermore, you should as much as possible restrict the use of for-loops (e.g. use a vector-to-matrix product instead of a for loop when appropriate).\n",
    "\n",
    "If `X` is a 2D data matrix, we will use the convention that the rows of the matrix contain the samples (or instances) and the columns contain the features (inputs to the model). That means that a data matrix with a shape `(122, 13)` represents a dataset with 122 samples, each represented with 13 features. Similarly, if `Y` is a 2D matrix containing the targets, the rows correspond to the samples and the columns to the different targets (outputs of the model). Thus, if the shape of `Y` is `(122, 3)` that means that there are 122 samples and each sample is has 3 targets (note that in the majority of the examples we will only have a single target and thus the number of columns of `Y` will be 1).\n",
    "\n",
    "You can obtain the data and target matrices from the two datasets in the following way:"
   ]
  },
  {
   "cell_type": "code",
   "execution_count": 3,
   "metadata": {},
   "outputs": [
    {
     "name": "stdout",
     "output_type": "stream",
     "text": [
      "(442, 10)\n",
      "(442, 1)\n"
     ]
    }
   ],
   "source": [
    "X = diabetes.data\n",
    "Y = diabetes.target[:, np.newaxis]\n",
    "\n",
    "print(X.shape)\n",
    "print(Y.shape)"
   ]
  },
  {
   "cell_type": "markdown",
   "metadata": {},
   "source": [
    "If you want to only use a subset of the available features, you can obtain a reduced data matrix in the following way:"
   ]
  },
  {
   "cell_type": "code",
   "execution_count": 4,
   "metadata": {
    "scrolled": true
   },
   "outputs": [
    {
     "name": "stdout",
     "output_type": "stream",
     "text": [
      "(442, 1)\n",
      "(442, 2)\n"
     ]
    }
   ],
   "source": [
    "# use only the fourth feature\n",
    "X = diabetes.data[:, np.newaxis, 3]\n",
    "print(X.shape)\n",
    "\n",
    "# use the third, and tenth features\n",
    "X = diabetes.data[:, (3,9)]\n",
    "print(X.shape)"
   ]
  },
  {
   "cell_type": "markdown",
   "metadata": {},
   "source": [
    "***Question***: Why we need to use the `np.newaxis` expression in the examples above? \n",
    "\n",
    "We need it to get a 2D vector as an output that has the dimensions: (422, 1). If we would not use `np.newaxis`, you would get a 1D column of the shape (422,) , which is not the same as a 2D column computational wise. Thi is not a problem when selecting 2 features, as this automaticallly created a 2D shape.\n",
    "\n",
    "Note that in all your experiments in the exercises, you should use and independent training and testing sets. You can split the dataset into a training and testing subsets in the following way:"
   ]
  },
  {
   "cell_type": "code",
   "execution_count": 5,
   "metadata": {},
   "outputs": [
    {
     "name": "stdout",
     "output_type": "stream",
     "text": [
      "(300, 1)\n",
      "(300, 1)\n",
      "(142, 1)\n",
      "(142, 1)\n"
     ]
    }
   ],
   "source": [
    "# use the fourth feature\n",
    "# use the first 300 training samples for training, and the rest for testing\n",
    "X_train = diabetes.data[:300, np.newaxis, 3]\n",
    "y_train = diabetes.target[:300, np.newaxis]\n",
    "X_test = diabetes.data[300:, np.newaxis, 3]\n",
    "y_test = diabetes.target[300:, np.newaxis]\n",
    "print(X_train.shape)\n",
    "print(y_train.shape)\n",
    "print(X_test.shape)\n",
    "print(y_test.shape)"
   ]
  },
  {
   "cell_type": "markdown",
   "metadata": {},
   "source": [
    "## Exercises\n",
    "\n",
    "### Linear regression\n",
    "\n",
    "Implement training and evaluation of a linear regression model on the diabetes dataset using only matrix multiplication, inversion and transpose operations. Report the mean squared error of the model.\n",
    "\n",
    "To get you started we have implemented the first part of this exercise (fitting of the model) as an example."
   ]
  },
  {
   "cell_type": "code",
   "execution_count": 6,
   "metadata": {},
   "outputs": [
    {
     "name": "stdout",
     "output_type": "stream",
     "text": [
      "[[ 152.34786452]\n",
      " [ -16.57607993]\n",
      " [-254.66532396]\n",
      " [ 560.98630022]\n",
      " [ 278.91811152]\n",
      " [-393.41357305]\n",
      " [  97.05460405]\n",
      " [ -19.0023093 ]\n",
      " [ 169.46450327]\n",
      " [ 632.95050374]\n",
      " [ 114.21638941]]\n"
     ]
    }
   ],
   "source": [
    "# add subfolder that contains all the function implementations\n",
    "# to the system path so we can import them\n",
    "import sys\n",
    "sys.path.append('code/')\n",
    "\n",
    "# the actual implementation is in linear_regression.py,\n",
    "# here we will just use it to fit a model\n",
    "from linear_regression import *\n",
    "\n",
    "# load the dataset\n",
    "# same as before, but now we use all features\n",
    "X_train = diabetes.data[:300, :]\n",
    "y_train = diabetes.target[:300, np.newaxis]\n",
    "X_test = diabetes.data[300:, :]\n",
    "y_lest = diabetes.target[300:, np.newaxis]\n",
    "\n",
    "beta = lsq(X_train, y_train)\n",
    "\n",
    "# print the parameters\n",
    "print(beta)"
   ]
  },
  {
   "cell_type": "markdown",
   "metadata": {},
   "source": [
    "### Weighted linear regression\n",
    "\n",
    "Assume that in the dataset that you use to train a linear regression model, there are identical versions of some samples. This problem can be reformulated to a weighted linear regression problem where the matrices $\\boldsymbol{\\mathrm{X}}$ and $\\boldsymbol{\\mathrm{Y}}$ (or the vector $\\boldsymbol{\\mathrm{y}}$ if there is only a single target/output variable) contain only the unique data samples, and a vector $\\boldsymbol{\\mathrm{d}}$ is introduced that gives more weight to samples that appear multiple times in the original dataset (for example, the sample that appears 3 times has a corresponding weight of 3). \n",
    "\n",
    "<p><font color='#770a0a'>Derive the expression for the least-squares solution of a weighted linear regression model (note that in addition to the matrices $\\boldsymbol{\\mathrm{X}}$ and $\\boldsymbol{\\mathrm{Y}}$, the solution should include a vector of weights $\\boldsymbol{\\mathrm{d}}$).</font></p>"
   ]
  },
  {
   "cell_type": "markdown",
   "metadata": {},
   "source": [
    "The different paremeters included in the calculation/solution of a weighted linear regression model are as follows: \n",
    "* $\\boldsymbol{\\mathrm{X}}$ ∈ $R^{nxp}$, which is a matrix of features, which are in this case all unique rows. \n",
    "* $\\boldsymbol{\\mathrm{y}}$ ∈ $R^{n}$, which is a vector containing target values corresponding to the unique rows in $\\boldsymbol{\\mathrm{X}}$. \n",
    "* Lastly, $\\boldsymbol{\\mathrm{d}}$ ∈ $R^{n}$, which the weight vector. \n",
    "\n",
    "To derive the expression of a least squares solution of a weighted regression model, you use the formula for the residual sum of squares (RSS). This formula measures the difference between your observed data and the model’s predictions. The Residual Sum of Squares (RSS) formula looks as follows:\n",
    "\n",
    "Residual Sum of Squares (RSS) formula:\n",
    "\n",
    "$RSS = Σ (y_{i} - ŷ_{i})^{2}$\n",
    "\n",
    "Where:\n",
    "- $y_{i}$ is the actual value.\n",
    "- $ŷ_{i}$ is the predicted value.\n",
    "- Σ represents the sum over all observations from i = 1 to n.\n",
    "\n",
    "Rewriting the predicted value gives: \n",
    "$RSS = Σ (y_{i} - x_{i}d)^{2}$\n",
    "\n",
    "Where w represents the ??????? given to a certain row in x. Rewriting this formula in matrix notation gives: \n",
    "\n",
    "$RSS(\\boldsymbol{\\mathrm{w}}) = (\\boldsymbol{\\mathrm{y}} - \\boldsymbol{\\mathrm{Xw}})^{T} \\boldsymbol{\\mathrm{D}} (\\boldsymbol{\\mathrm{y}} - \\boldsymbol{\\mathrm{Xw}})$\n",
    "\n",
    "Where $\\boldsymbol{\\mathrm{D}}$ represents a diagonal containing the weights previously found in $\\boldsymbol{\\mathrm{d}}$. To find the solution of this calculation, meaning a $\\boldsymbol{\\mathrm{w}}$ where RSS is a minimimum, we differentiate with respect to $\\boldsymbol{\\mathrm{w}}$ obtaining: \n",
    "\n",
    "$\n",
    "\\frac{d}{d\\boldsymbol{\\mathrm{w}}}RSS(\\boldsymbol{\\mathrm{w}}) = -2\\boldsymbol{\\mathrm{X}}^{T}\\boldsymbol{\\mathrm{D}}\\boldsymbol{\\mathrm{y}} + 2\\boldsymbol{\\mathrm{X}}^{T}\\boldsymbol{\\mathrm{D}}\\boldsymbol{\\mathrm{Xw}}\n",
    "$\n",
    "\n",
    "Setting $\n",
    "\\frac{d}{d\\boldsymbol{\\mathrm{w}}}RSS(\\boldsymbol{\\mathrm{w}})$ equal to 0 and solving for $\\boldsymbol{\\mathrm{w}}$ gives: \n",
    "\n",
    "$\\boldsymbol{\\mathrm{w}} = \\left(\\boldsymbol{\\mathrm{X}}^{T}\\boldsymbol{\\mathrm{D}}\\boldsymbol{\\mathrm{X}}\\right)^{-1}\\boldsymbol{\\mathrm{X}}^{T}\\boldsymbol{\\mathrm{D}}\\boldsymbol{\\mathrm{y}}$\n"
   ]
  },
  {
   "cell_type": "markdown",
   "metadata": {},
   "source": [
    "### $k$-NN classification\n",
    "\n",
    "Implement a $k$-Nearest neighbors classifier from scratch in Python using only basic matrix operations with `numpy` and `scipy`. Train and evaluate the classifier on the breast cancer dataset, using all features. Show the performance of the classifier for different values of $k$ (plot the results in a graph). Note that for optimal results, you should normalize the features (e.g. to the $[0, 1]$ range or to have a zero mean and unit standard deviation)."
   ]
  },
  {
   "cell_type": "code",
   "execution_count": 7,
   "metadata": {},
   "outputs": [
    {
     "name": "stdout",
     "output_type": "stream",
     "text": [
      "(300, 30)\n",
      "(300, 1)\n",
      "(269, 30)\n",
      "(269, 1)\n"
     ]
    },
    {
     "name": "stderr",
     "output_type": "stream",
     "text": [
      "C:\\Anaconda\\envs\\8dm50\\lib\\site-packages\\ipykernel_launcher.py:32: FutureWarning: Using a non-tuple sequence for multidimensional indexing is deprecated; use `arr[tuple(seq)]` instead of `arr[seq]`. In the future this will be interpreted as an array index, `arr[np.array(seq)]`, which will result either in an error or a different result.\n"
     ]
    },
    {
     "data": {
      "image/png": "[encoded data removed]",
      "text/plain": [
       "<Figure size 432x288 with 1 Axes>"
      ]
     },
     "metadata": {
      "needs_background": "light"
     },
     "output_type": "display_data"
    }
   ],
   "source": [
    "from scipy import stats as st\n",
    "import matplotlib.pyplot as plt\n",
    "\n",
    "def normalize(dataset):\n",
    "    x_min= np.min(dataset)\n",
    "    x_max= np.max(dataset)\n",
    "    dataset_norm=(dataset-x_min)/(x_max-x_min)\n",
    "    return dataset_norm \n",
    "\n",
    "def find_closests(X_train, X_test, k):\n",
    "    #take the sum of the squares of each element per row\n",
    "    X_train_squared_sum = np.sum(X_train**2, axis = 1) \n",
    "    X_test_squared_sum = np.sum(X_test**2, axis = 1)\n",
    "\n",
    "    #multiply the X_test and x_train matrices\n",
    "    X_multiplied = np.matmul(X_test, X_train.T) \n",
    "\n",
    "    #calculate the distances\n",
    "    X_test_squared_sum = X_test_squared_sum.reshape(-1,1) \n",
    "    dists = np.sqrt(X_test_squared_sum - 2*X_multiplied + X_train_squared_sum)\n",
    "    # look at this website under'No loops' for the explaination of the formula:\n",
    "    # https://jaykmody.com/blog/distance-matrices-with-numpy/ \n",
    "\n",
    "    #determine the indices of the k nearest neighbors\n",
    "    #I am not sure if we can use the 'argpartition function'\n",
    "    minimum_indices = np.argpartition(dists, kth = k-1, axis = -1)[:,:k]\n",
    "    return minimum_indices\n",
    "\n",
    "def pred_Y(minimum_indices, y_train):\n",
    "    # take the data from y_train on the indices defined by minimum_indices\n",
    "    # and reshape\n",
    "    nearest_neighbors_outcomes = y_train[[minimum_indices]].reshape(minimum_indices.shape)\n",
    "\n",
    "    # Take the most frequent predicted outcome \n",
    "    outcome = st.mode(np.transpose(nearest_neighbors_outcomes))[0]\n",
    "    return outcome\n",
    "\n",
    "def calculate_accuracy(pred, real):\n",
    "    # reshape to the same shape\n",
    "    real = real.reshape(pred.shape)\n",
    "\n",
    "    # outcomes are 0 or 1 so difference between 2 outcomes is 0, 1 or -1\n",
    "    # calculate the difference squared (to remove sign)\n",
    "    errors = np.sum((real-pred)**2)\n",
    "\n",
    "    # devide number of good outocomes devided by total number of outcomes\n",
    "    accuracy = (real.size-errors)/real.size\n",
    "    return accuracy\n",
    "    \n",
    "def knnClassifier(X_train, X_test, y_train, y_test, k):\n",
    "    # normalize data\n",
    "    X_train = normalize(X_train)\n",
    "    X_test = normalize(X_test)\n",
    "    \n",
    "    # find k nearest neighbours\n",
    "    minimum_indices = find_closests(X_train, X_test, k)\n",
    "\n",
    "    # predict the outcomes\n",
    "    pred = pred_Y(minimum_indices, y_train)\n",
    "    # calculate accuracy\n",
    "    acc = calculate_accuracy(pred, y_test)\n",
    "    return acc\n",
    "    \n",
    "#Same code as before but then breast cancer data\n",
    "X_train = breast_cancer.data[:300]\n",
    "y_train = breast_cancer.target[:300, np.newaxis]\n",
    "X_test = breast_cancer.data[300:]\n",
    "y_test = breast_cancer.target[300:, np.newaxis]\n",
    "print(X_train.shape)\n",
    "print(y_train.shape)\n",
    "print(X_test.shape)\n",
    "print(y_test.shape)\n",
    "\n",
    "# determine accuracy for different values of k\n",
    "acc_list = []\n",
    "for k in range(1,100):\n",
    "    acc_list.append(knnClassifier(X_train, X_test, y_train, y_test, k))\n",
    "\n",
    "# plot accuracy of knn classifier for different values of k\n",
    "xpoints = np.arange(1, 100)\n",
    "ypoints = np.array(acc_list)\n",
    "\n",
    "plt.plot(xpoints, ypoints)\n",
    "plt.title('Accuracy of K-nn classifier for different values of k')\n",
    "plt.xlabel('Value of k') \n",
    "plt.ylabel('Accuracy') \n",
    "plt.show()"
   ]
  },
  {
   "cell_type": "markdown",
   "metadata": {},
   "source": [
    "### $k$-NN regression\n",
    "\n",
    "Modify the $k$-NN implementation to do regression instead of classification. Compare the performance of the linear regression model and the $k$-NN regression model on the diabetes dataset for different values of $k$.."
   ]
  },
  {
   "cell_type": "code",
   "execution_count": 8,
   "metadata": {},
   "outputs": [
    {
     "name": "stdout",
     "output_type": "stream",
     "text": [
      "(300, 1)\n",
      "(300, 1)\n",
      "(142, 1)\n",
      "(142, 1)\n"
     ]
    },
    {
     "name": "stderr",
     "output_type": "stream",
     "text": [
      "C:\\Anaconda\\envs\\8dm50\\lib\\site-packages\\ipykernel_launcher.py:4: FutureWarning: Using a non-tuple sequence for multidimensional indexing is deprecated; use `arr[tuple(seq)]` instead of `arr[seq]`. In the future this will be interpreted as an array index, `arr[np.array(seq)]`, which will result either in an error or a different result.\n",
      "  after removing the cwd from sys.path.\n"
     ]
    },
    {
     "data": {
      "image/png": "[encoded data removed]",
      "text/plain": [
       "<Figure size 432x288 with 1 Axes>"
      ]
     },
     "metadata": {
      "needs_background": "light"
     },
     "output_type": "display_data"
    }
   ],
   "source": [
    "def regression_Y(minimum_indices, y_train):\n",
    "    # take the data from y_train on the indices defined by minimum_indices\n",
    "    # and reshape\n",
    "    nearest_neighbors_outcomes = y_train[[minimum_indices]].reshape(minimum_indices.shape)\n",
    "\n",
    "    # Calculate the mean of the nearest neighbor outcomes\n",
    "    outcome = np.mean(nearest_neighbors_outcomes, axis=1)\n",
    "    return outcome\n",
    "    \n",
    "def calculate_regr_std(pred, real):\n",
    "    # reshape to the same shape\n",
    "    real = real.reshape(pred.shape)\n",
    "    \n",
    "    # calculate the difference squared\n",
    "    errors = sum((real-pred)**2)\n",
    "    # calculate the standard deviation\n",
    "    std = (errors/real.size)**0.5\n",
    "    return std\n",
    "\n",
    "def knnRegressor(X_train, X_test, y_train, y_test, k):\n",
    "    # normalize data\n",
    "    X_train = normalize(X_train)\n",
    "    X_test = normalize(X_test)\n",
    "\n",
    "    # find k nearest neighbours\n",
    "    minimum_indices = find_closests(X_train, X_test, k)\n",
    "    # predict the outcomes\n",
    "    pred = regression_Y(minimum_indices, y_train)\n",
    "    # calculate standard deviation\n",
    "    std = calculate_regr_std(pred, y_test)\n",
    "    return std\n",
    "\n",
    "# prepare the data\n",
    "X_train = diabetes.data[:300, np.newaxis, 3]\n",
    "y_train = diabetes.target[:300, np.newaxis]\n",
    "X_test = diabetes.data[300:, np.newaxis, 3]\n",
    "y_test = diabetes.target[300:, np.newaxis]\n",
    "print(X_train.shape)\n",
    "print(y_train.shape)\n",
    "print(X_test.shape)\n",
    "print(y_test.shape)\n",
    "\n",
    "# determine standard deviation for different values of k\n",
    "std_list = []\n",
    "for k in range(1,100):\n",
    "    std_list.append(knnRegressor(X_train, X_test, y_train, y_test, k))\n",
    "\n",
    "xpoints = np.arange(1, 100)\n",
    "ypoints = np.array(std_list)\n",
    "\n",
    "plt.plot(xpoints, ypoints)\n",
    "plt.title('Standard deviation of K-nn classifier for different values of k')\n",
    "plt.xlabel('Value of k') \n",
    "plt.ylabel('Standard deviation') \n",
    "plt.show()"
   ]
  },
  {
   "cell_type": "markdown",
   "metadata": {},
   "source": [
    "### Class-conditional probability\n",
    "\n",
    "Compute and visualize the class-conditional probability (conditional probability where the class label is the conditional variable, i.e. $P(X = x \\mid Y = y_i)$ for all features in the breast cancer dataset. Assume a Gaussian distribution.\n",
    "\n",
    "<p><font color='#770a0a'>Based on visual analysis of the plots, which individual feature can best discriminate between the two classes? Motivate your answer.</font></p>\n",
    "\n",
    "Based on the figures below, features 3, 21 and 28 have the least overlap in their probability distributions and would therefore be useful in discriminating between the two classes."
   ]
  },
  {
   "cell_type": "code",
   "execution_count": 9,
   "metadata": {},
   "outputs": [
    {
     "ename": "ModuleNotFoundError",
     "evalue": "No module named 'seaborn'",
     "output_type": "error",
     "traceback": [
      "\u001b[1;31m---------------------------------------------------------------------------\u001b[0m",
      "\u001b[1;31mModuleNotFoundError\u001b[0m                       Traceback (most recent call last)",
      "\u001b[1;32m<ipython-input-9-b56227c0a83c>\u001b[0m in \u001b[0;36m<module>\u001b[1;34m\u001b[0m\n\u001b[1;32m----> 1\u001b[1;33m \u001b[1;32mimport\u001b[0m \u001b[0mseaborn\u001b[0m \u001b[1;32mas\u001b[0m \u001b[0msns\u001b[0m\u001b[1;33m\u001b[0m\u001b[1;33m\u001b[0m\u001b[0m\n\u001b[0m\u001b[0;32m      2\u001b[0m \u001b[1;32mimport\u001b[0m \u001b[0mmatplotlib\u001b[0m\u001b[1;33m.\u001b[0m\u001b[0mpyplot\u001b[0m \u001b[1;32mas\u001b[0m \u001b[0mplt\u001b[0m\u001b[1;33m\u001b[0m\u001b[1;33m\u001b[0m\u001b[0m\n\u001b[0;32m      3\u001b[0m \u001b[1;33m\u001b[0m\u001b[0m\n\u001b[0;32m      4\u001b[0m \u001b[1;31m# Gather data\u001b[0m\u001b[1;33m\u001b[0m\u001b[1;33m\u001b[0m\u001b[1;33m\u001b[0m\u001b[0m\n\u001b[0;32m      5\u001b[0m \u001b[0mX\u001b[0m \u001b[1;33m=\u001b[0m \u001b[0mbreast_cancer\u001b[0m\u001b[1;33m.\u001b[0m\u001b[0mdata\u001b[0m\u001b[1;33m\u001b[0m\u001b[1;33m\u001b[0m\u001b[0m\n",
      "\u001b[1;31mModuleNotFoundError\u001b[0m: No module named 'seaborn'"
     ]
    }
   ],
   "source": [
    "import seaborn as sns\n",
    "import matplotlib.pyplot as plt\n",
    "\n",
    "# Gather data\n",
    "X = breast_cancer.data\n",
    "Y = breast_cancer.target[:, np.newaxis]\n",
    "\n",
    "# Divide Data into malignent and benign\n",
    "y_bool = np.array(list(map(bool,Y)))\n",
    "malignant = X[~y_bool]\n",
    "benign = X[y_bool]\n",
    "\n",
    "# Create grid for the pltos\n",
    "fig, axes = plt.subplots(10, 3, figsize=(20, 50))\n",
    "\n",
    "# Create plots for each feature\n",
    "for feature in range(X.shape[1]):\n",
    "    sns.kdeplot(ax=axes[feature//3, feature%3], data=malignant[:, np.newaxis, feature], label=\"Malignent\", fill=True)\n",
    "    sns.kdeplot(ax=axes[feature//3, feature%3], x=benign[:, feature], label=\"Benign\", fill=True).set(title=f'feature {feature+1}')\n",
    "    axes[feature//3, feature%3].legend()\n",
    "    "
   ]
  },
  {
   "cell_type": "code",
   "execution_count": null,
   "metadata": {},
   "outputs": [],
   "source": []
  }
 ],
 "metadata": {
  "kernelspec": {
   "display_name": "Python 3",
   "language": "python",
   "name": "python3"
  },
  "language_info": {
   "codemirror_mode": {
    "name": "ipython",
    "version": 3
   },
   "file_extension": ".py",
   "mimetype": "text/x-python",
   "name": "python",
   "nbconvert_exporter": "python",
   "pygments_lexer": "ipython3",
   "version": "3.6.13"
  }
 },
 "nbformat": 4,
 "nbformat_minor": 2
}
